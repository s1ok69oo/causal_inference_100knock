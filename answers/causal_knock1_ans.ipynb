{
  "nbformat": 4,
  "nbformat_minor": 0,
  "metadata": {
    "colab": {
      "provenance": []
    },
    "kernelspec": {
      "name": "python3",
      "display_name": "Python 3"
    },
    "language_info": {
      "name": "python"
    }
  },
  "cells": [
    {
      "cell_type": "code",
      "source": [
        "!pip install dowhy\n",
        "!apt install libgraphviz-dev\n",
        "!pip install pygraphviz"
      ],
      "metadata": {
        "colab": {
          "base_uri": "https://localhost:8080/"
        },
        "id": "WstdFTNEXYNH",
        "outputId": "bf06bf80-7527-4f5a-b939-4a1e2bcdc6a1"
      },
      "execution_count": null,
      "outputs": [
        {
          "output_type": "stream",
          "name": "stdout",
          "text": [
            "Looking in indexes: https://pypi.org/simple, https://us-python.pkg.dev/colab-wheels/public/simple/\n",
            "Requirement already satisfied: dowhy in /usr/local/lib/python3.9/dist-packages (0.9.1)\n",
            "Requirement already satisfied: statsmodels<0.14.0,>=0.13.2 in /usr/local/lib/python3.9/dist-packages (from dowhy) (0.13.5)\n",
            "Requirement already satisfied: scikit-learn<1.2.0 in /usr/local/lib/python3.9/dist-packages (from dowhy) (1.1.3)\n",
            "Requirement already satisfied: sympy<2.0.0,>=1.10.1 in /usr/local/lib/python3.9/dist-packages (from dowhy) (1.11.1)\n",
            "Requirement already satisfied: cython<0.30.0,>=0.29.32 in /usr/local/lib/python3.9/dist-packages (from dowhy) (0.29.34)\n",
            "Requirement already satisfied: pandas<2.0.0,>=1.4.3 in /usr/local/lib/python3.9/dist-packages (from dowhy) (1.4.4)\n",
            "Requirement already satisfied: tqdm<5.0.0,>=4.64.0 in /usr/local/lib/python3.9/dist-packages (from dowhy) (4.65.0)\n",
            "Requirement already satisfied: sphinx_design<0.4.0,>=0.3.0 in /usr/local/lib/python3.9/dist-packages (from dowhy) (0.3.0)\n",
            "Requirement already satisfied: joblib<2.0.0,>=1.1.0 in /usr/local/lib/python3.9/dist-packages (from dowhy) (1.1.1)\n",
            "Requirement already satisfied: scipy<2.0.0,>=1.8.1 in /usr/local/lib/python3.9/dist-packages (from dowhy) (1.10.1)\n",
            "Requirement already satisfied: econml in /usr/local/lib/python3.9/dist-packages (from dowhy) (0.14.0)\n",
            "Requirement already satisfied: causal-learn<0.2.0.0,>=0.1.3.0 in /usr/local/lib/python3.9/dist-packages (from dowhy) (0.1.3.3)\n",
            "Requirement already satisfied: numpy<2.0.0,>=1.23.1 in /usr/local/lib/python3.9/dist-packages (from dowhy) (1.23.5)\n",
            "Requirement already satisfied: networkx<3.0.0,>=2.8.5 in /usr/local/lib/python3.9/dist-packages (from dowhy) (2.8.8)\n",
            "Requirement already satisfied: graphviz in /usr/local/lib/python3.9/dist-packages (from causal-learn<0.2.0.0,>=0.1.3.0->dowhy) (0.20.1)\n",
            "Requirement already satisfied: pydot in /usr/local/lib/python3.9/dist-packages (from causal-learn<0.2.0.0,>=0.1.3.0->dowhy) (1.4.2)\n",
            "Requirement already satisfied: matplotlib in /usr/local/lib/python3.9/dist-packages (from causal-learn<0.2.0.0,>=0.1.3.0->dowhy) (3.7.1)\n",
            "Requirement already satisfied: pytz>=2020.1 in /usr/local/lib/python3.9/dist-packages (from pandas<2.0.0,>=1.4.3->dowhy) (2022.7.1)\n",
            "Requirement already satisfied: python-dateutil>=2.8.1 in /usr/local/lib/python3.9/dist-packages (from pandas<2.0.0,>=1.4.3->dowhy) (2.8.2)\n",
            "Requirement already satisfied: threadpoolctl>=2.0.0 in /usr/local/lib/python3.9/dist-packages (from scikit-learn<1.2.0->dowhy) (3.1.0)\n",
            "Requirement already satisfied: sphinx<6,>=4 in /usr/local/lib/python3.9/dist-packages (from sphinx_design<0.4.0,>=0.3.0->dowhy) (5.3.0)\n",
            "Requirement already satisfied: packaging>=21.3 in /usr/local/lib/python3.9/dist-packages (from statsmodels<0.14.0,>=0.13.2->dowhy) (23.0)\n",
            "Requirement already satisfied: patsy>=0.5.2 in /usr/local/lib/python3.9/dist-packages (from statsmodels<0.14.0,>=0.13.2->dowhy) (0.5.3)\n",
            "Requirement already satisfied: mpmath>=0.19 in /usr/local/lib/python3.9/dist-packages (from sympy<2.0.0,>=1.10.1->dowhy) (1.3.0)\n",
            "Requirement already satisfied: shap<0.41.0,>=0.38.1 in /usr/local/lib/python3.9/dist-packages (from econml->dowhy) (0.40.0)\n",
            "Requirement already satisfied: lightgbm in /usr/local/lib/python3.9/dist-packages (from econml->dowhy) (3.3.5)\n",
            "Requirement already satisfied: sparse in /usr/local/lib/python3.9/dist-packages (from econml->dowhy) (0.14.0)\n",
            "Requirement already satisfied: six in /usr/local/lib/python3.9/dist-packages (from patsy>=0.5.2->statsmodels<0.14.0,>=0.13.2->dowhy) (1.16.0)\n",
            "Requirement already satisfied: cloudpickle in /usr/local/lib/python3.9/dist-packages (from shap<0.41.0,>=0.38.1->econml->dowhy) (2.2.1)\n",
            "Requirement already satisfied: slicer==0.0.7 in /usr/local/lib/python3.9/dist-packages (from shap<0.41.0,>=0.38.1->econml->dowhy) (0.0.7)\n",
            "Requirement already satisfied: numba in /usr/local/lib/python3.9/dist-packages (from shap<0.41.0,>=0.38.1->econml->dowhy) (0.56.4)\n",
            "Requirement already satisfied: sphinxcontrib-devhelp in /usr/local/lib/python3.9/dist-packages (from sphinx<6,>=4->sphinx_design<0.4.0,>=0.3.0->dowhy) (1.0.2)\n",
            "Requirement already satisfied: sphinxcontrib-htmlhelp>=2.0.0 in /usr/local/lib/python3.9/dist-packages (from sphinx<6,>=4->sphinx_design<0.4.0,>=0.3.0->dowhy) (2.0.1)\n",
            "Requirement already satisfied: snowballstemmer>=2.0 in /usr/local/lib/python3.9/dist-packages (from sphinx<6,>=4->sphinx_design<0.4.0,>=0.3.0->dowhy) (2.2.0)\n",
            "Requirement already satisfied: alabaster<0.8,>=0.7 in /usr/local/lib/python3.9/dist-packages (from sphinx<6,>=4->sphinx_design<0.4.0,>=0.3.0->dowhy) (0.7.13)\n",
            "Requirement already satisfied: Pygments>=2.12 in /usr/local/lib/python3.9/dist-packages (from sphinx<6,>=4->sphinx_design<0.4.0,>=0.3.0->dowhy) (2.14.0)\n",
            "Requirement already satisfied: docutils<0.20,>=0.14 in /usr/local/lib/python3.9/dist-packages (from sphinx<6,>=4->sphinx_design<0.4.0,>=0.3.0->dowhy) (0.16)\n",
            "Requirement already satisfied: Jinja2>=3.0 in /usr/local/lib/python3.9/dist-packages (from sphinx<6,>=4->sphinx_design<0.4.0,>=0.3.0->dowhy) (3.1.2)\n",
            "Requirement already satisfied: imagesize>=1.3 in /usr/local/lib/python3.9/dist-packages (from sphinx<6,>=4->sphinx_design<0.4.0,>=0.3.0->dowhy) (1.4.1)\n",
            "Requirement already satisfied: sphinxcontrib-qthelp in /usr/local/lib/python3.9/dist-packages (from sphinx<6,>=4->sphinx_design<0.4.0,>=0.3.0->dowhy) (1.0.3)\n",
            "Requirement already satisfied: requests>=2.5.0 in /usr/local/lib/python3.9/dist-packages (from sphinx<6,>=4->sphinx_design<0.4.0,>=0.3.0->dowhy) (2.27.1)\n",
            "Requirement already satisfied: sphinxcontrib-applehelp in /usr/local/lib/python3.9/dist-packages (from sphinx<6,>=4->sphinx_design<0.4.0,>=0.3.0->dowhy) (1.0.4)\n",
            "Requirement already satisfied: importlib-metadata>=4.8 in /usr/local/lib/python3.9/dist-packages (from sphinx<6,>=4->sphinx_design<0.4.0,>=0.3.0->dowhy) (6.1.0)\n",
            "Requirement already satisfied: sphinxcontrib-serializinghtml>=1.1.5 in /usr/local/lib/python3.9/dist-packages (from sphinx<6,>=4->sphinx_design<0.4.0,>=0.3.0->dowhy) (1.1.5)\n",
            "Requirement already satisfied: babel>=2.9 in /usr/local/lib/python3.9/dist-packages (from sphinx<6,>=4->sphinx_design<0.4.0,>=0.3.0->dowhy) (2.12.1)\n",
            "Requirement already satisfied: sphinxcontrib-jsmath in /usr/local/lib/python3.9/dist-packages (from sphinx<6,>=4->sphinx_design<0.4.0,>=0.3.0->dowhy) (1.0.1)\n",
            "Requirement already satisfied: wheel in /usr/local/lib/python3.9/dist-packages (from lightgbm->econml->dowhy) (0.40.0)\n",
            "Requirement already satisfied: fonttools>=4.22.0 in /usr/local/lib/python3.9/dist-packages (from matplotlib->causal-learn<0.2.0.0,>=0.1.3.0->dowhy) (4.39.3)\n",
            "Requirement already satisfied: cycler>=0.10 in /usr/local/lib/python3.9/dist-packages (from matplotlib->causal-learn<0.2.0.0,>=0.1.3.0->dowhy) (0.11.0)\n",
            "Requirement already satisfied: contourpy>=1.0.1 in /usr/local/lib/python3.9/dist-packages (from matplotlib->causal-learn<0.2.0.0,>=0.1.3.0->dowhy) (1.0.7)\n",
            "Requirement already satisfied: importlib-resources>=3.2.0 in /usr/local/lib/python3.9/dist-packages (from matplotlib->causal-learn<0.2.0.0,>=0.1.3.0->dowhy) (5.12.0)\n",
            "Requirement already satisfied: pyparsing>=2.3.1 in /usr/local/lib/python3.9/dist-packages (from matplotlib->causal-learn<0.2.0.0,>=0.1.3.0->dowhy) (3.0.9)\n",
            "Requirement already satisfied: kiwisolver>=1.0.1 in /usr/local/lib/python3.9/dist-packages (from matplotlib->causal-learn<0.2.0.0,>=0.1.3.0->dowhy) (1.4.4)\n",
            "Requirement already satisfied: pillow>=6.2.0 in /usr/local/lib/python3.9/dist-packages (from matplotlib->causal-learn<0.2.0.0,>=0.1.3.0->dowhy) (8.4.0)\n",
            "Requirement already satisfied: zipp>=0.5 in /usr/local/lib/python3.9/dist-packages (from importlib-metadata>=4.8->sphinx<6,>=4->sphinx_design<0.4.0,>=0.3.0->dowhy) (3.15.0)\n",
            "Requirement already satisfied: MarkupSafe>=2.0 in /usr/local/lib/python3.9/dist-packages (from Jinja2>=3.0->sphinx<6,>=4->sphinx_design<0.4.0,>=0.3.0->dowhy) (2.1.2)\n",
            "Requirement already satisfied: llvmlite<0.40,>=0.39.0dev0 in /usr/local/lib/python3.9/dist-packages (from numba->shap<0.41.0,>=0.38.1->econml->dowhy) (0.39.1)\n",
            "Requirement already satisfied: setuptools in /usr/local/lib/python3.9/dist-packages (from numba->shap<0.41.0,>=0.38.1->econml->dowhy) (67.6.1)\n",
            "Requirement already satisfied: certifi>=2017.4.17 in /usr/local/lib/python3.9/dist-packages (from requests>=2.5.0->sphinx<6,>=4->sphinx_design<0.4.0,>=0.3.0->dowhy) (2022.12.7)\n",
            "Requirement already satisfied: idna<4,>=2.5 in /usr/local/lib/python3.9/dist-packages (from requests>=2.5.0->sphinx<6,>=4->sphinx_design<0.4.0,>=0.3.0->dowhy) (3.4)\n",
            "Requirement already satisfied: urllib3<1.27,>=1.21.1 in /usr/local/lib/python3.9/dist-packages (from requests>=2.5.0->sphinx<6,>=4->sphinx_design<0.4.0,>=0.3.0->dowhy) (1.26.15)\n",
            "Requirement already satisfied: charset-normalizer~=2.0.0 in /usr/local/lib/python3.9/dist-packages (from requests>=2.5.0->sphinx<6,>=4->sphinx_design<0.4.0,>=0.3.0->dowhy) (2.0.12)\n",
            "Reading package lists... Done\n",
            "Building dependency tree       \n",
            "Reading state information... Done\n",
            "libgraphviz-dev is already the newest version (2.42.2-3build2).\n",
            "0 upgraded, 0 newly installed, 0 to remove and 24 not upgraded.\n",
            "Looking in indexes: https://pypi.org/simple, https://us-python.pkg.dev/colab-wheels/public/simple/\n",
            "Requirement already satisfied: pygraphviz in /usr/local/lib/python3.9/dist-packages (1.10)\n"
          ]
        }
      ]
    },
    {
      "cell_type": "code",
      "execution_count": null,
      "metadata": {
        "id": "Ja_dkvfdXFgF"
      },
      "outputs": [],
      "source": [
        "# ノック1\n",
        "import pandas as pd\n",
        "\n",
        "df = pd.read_csv('https://raw.githubusercontent.com/s1ok69oo/causal_inference_100knock/main/data/causal_knock1.csv')"
      ]
    },
    {
      "cell_type": "code",
      "source": [
        "# ノック2\n",
        "from dowhy import CausalModel\n",
        "from IPython.display import Image, display\n",
        "\n",
        "data = df[['y', 't', 'x']]\n",
        "\n",
        "# グラフを描画\n",
        "model = CausalModel(\n",
        "    data=data, \n",
        "    treatment='t', \n",
        "    outcome='y', \n",
        "    effect_modifiers='x'\n",
        "    )\n",
        "\n",
        "model.view_model()\n",
        "display(Image(filename=\"causal_model.png\"))"
      ],
      "metadata": {
        "colab": {
          "base_uri": "https://localhost:8080/",
          "height": 717
        },
        "id": "5-ubV_F_Xx-j",
        "outputId": "6f0b9b91-3ce7-4ba9-8ef6-b4087e9399a9"
      },
      "execution_count": null,
      "outputs": [
        {
          "output_type": "stream",
          "name": "stderr",
          "text": [
            "WARNING:dowhy.causal_model:Causal Graph not provided. DoWhy will construct a graph based on data inputs.\n",
            "WARNING:dowhy.causal_model:Relevant variables to build causal graph not provided. You may want to use the learn_graph() function to construct the causal graph.\n"
          ]
        },
        {
          "output_type": "display_data",
          "data": {
            "image/png": "[encoded data removed]",
            "text/plain": [
              "<IPython.core.display.Image object>"
            ]
          },
          "metadata": {}
        }
      ]
    },
    {
      "cell_type": "code",
      "source": [
        "# ノック3\n",
        "df['y'].mean() - df['x'].mean()"
      ],
      "metadata": {
        "colab": {
          "base_uri": "https://localhost:8080/",
          "height": 37
        },
        "id": "DTC2bv6VYnkQ",
        "outputId": "ba86a24c-d8be-460c-d641-f8e6c6d3d796"
      },
      "execution_count": null,
      "outputs": [
        {
          "output_type": "execute_result",
          "data": {
            "text/plain": [
              "-0.7999999999999989"
            ],
            "text/latex": "$\\displaystyle -0.799999999999999$"
          },
          "metadata": {},
          "execution_count": 10
        }
      ]
    },
    {
      "cell_type": "code",
      "source": [
        "# ノック4\n",
        "df['y_t1'] - df['y_t0']"
      ],
      "metadata": {
        "colab": {
          "base_uri": "https://localhost:8080/"
        },
        "id": "moFCCfc8af_R",
        "outputId": "68998e9f-84c2-4d13-ef9f-b6b73c600ad6"
      },
      "execution_count": null,
      "outputs": [
        {
          "output_type": "execute_result",
          "data": {
            "text/plain": [
              "0     5\n",
              "1     5\n",
              "2     5\n",
              "3     4\n",
              "4     5\n",
              "5     5\n",
              "6     5\n",
              "7     5\n",
              "8     5\n",
              "9     5\n",
              "10    5\n",
              "11    5\n",
              "12    5\n",
              "13    5\n",
              "14    5\n",
              "15    5\n",
              "16    5\n",
              "17    5\n",
              "18    5\n",
              "19    5\n",
              "20    5\n",
              "21    5\n",
              "22    5\n",
              "23    5\n",
              "24    5\n",
              "25    5\n",
              "26    5\n",
              "27    5\n",
              "28    5\n",
              "29    5\n",
              "30    5\n",
              "31    5\n",
              "32    5\n",
              "33    5\n",
              "34    5\n",
              "35    5\n",
              "36    5\n",
              "37    5\n",
              "38    4\n",
              "39    5\n",
              "40    5\n",
              "41    5\n",
              "42    5\n",
              "43    5\n",
              "44    5\n",
              "45    5\n",
              "46    5\n",
              "47    5\n",
              "48    5\n",
              "49    5\n",
              "50    5\n",
              "51    5\n",
              "52    5\n",
              "53    5\n",
              "54    5\n",
              "55    5\n",
              "56    5\n",
              "57    5\n",
              "58    5\n",
              "59    5\n",
              "dtype: int64"
            ]
          },
          "metadata": {},
          "execution_count": 11
        }
      ]
    },
    {
      "cell_type": "code",
      "source": [
        "# ノック5\n",
        "df['y_t1'].mean() - df['y_t0'].mean()"
      ],
      "metadata": {
        "colab": {
          "base_uri": "https://localhost:8080/",
          "height": 37
        },
        "id": "ydEcIMdFgZEL",
        "outputId": "96fbc02f-8f36-4226-8d31-d25f9168be76"
      },
      "execution_count": null,
      "outputs": [
        {
          "output_type": "execute_result",
          "data": {
            "text/plain": [
              "4.966666666666667"
            ],
            "text/latex": "$\\displaystyle 4.96666666666667$"
          },
          "metadata": {},
          "execution_count": 12
        }
      ]
    },
    {
      "cell_type": "code",
      "source": [
        "# ノック6\n",
        "df_t1 = df[df['t']==1]\n",
        "df_t1['y_t1'].mean() - df_t1['y_t0'].mean()"
      ],
      "metadata": {
        "colab": {
          "base_uri": "https://localhost:8080/",
          "height": 37
        },
        "id": "1SkCQupphCJD",
        "outputId": "83168210-843f-4ae7-f8bd-d6b93d8003b3"
      },
      "execution_count": null,
      "outputs": [
        {
          "output_type": "execute_result",
          "data": {
            "text/plain": [
              "4.92"
            ],
            "text/latex": "$\\displaystyle 4.92$"
          },
          "metadata": {},
          "execution_count": 14
        }
      ]
    },
    {
      "cell_type": "code",
      "source": [
        "# ノック7\n",
        "df_over10 = df[df['x']>10]\n",
        "df_over10['y_t1'].mean() - df_over10['y_t0'].mean()"
      ],
      "metadata": {
        "colab": {
          "base_uri": "https://localhost:8080/",
          "height": 37
        },
        "id": "BFRlbIedhR9P",
        "outputId": "2cebf8c1-5875-44c7-fa7c-ab232269cc63"
      },
      "execution_count": null,
      "outputs": [
        {
          "output_type": "execute_result",
          "data": {
            "text/plain": [
              "5.0"
            ],
            "text/latex": "$\\displaystyle 5.0$"
          },
          "metadata": {},
          "execution_count": 15
        }
      ]
    },
    {
      "cell_type": "code",
      "source": [
        "# ノック8\n",
        "import matplotlib.pyplot as plt\n",
        "%matplotlib inline\n",
        "\n",
        "# 分析レポートありの営業の前季の受注件数\n",
        "df_t1 = df[df['t']==1]\n",
        "plt.hist(df_t1['x'], alpha=0.3, label='have report')\n",
        "\n",
        "# 分析レポートなしの営業の前季の受注件数\n",
        "df_t0 = df[df['t']==0]\n",
        "plt.hist(df_t0['x'], alpha=0.3, label='have no report')\n",
        "\n",
        "# 描画\n",
        "plt.legend()\n",
        "plt.show()"
      ],
      "metadata": {
        "colab": {
          "base_uri": "https://localhost:8080/",
          "height": 430
        },
        "id": "lajI38FvjQ8q",
        "outputId": "bae823f9-8b0f-4647-8dd6-9f393ccc211d"
      },
      "execution_count": null,
      "outputs": [
        {
          "output_type": "display_data",
          "data": {
            "text/plain": [
              "<Figure size 640x480 with 1 Axes>"
            ],
            "image/png": "[encoded data removed]"
          },
          "metadata": {}
        }
      ]
    },
    {
      "cell_type": "code",
      "source": [
        "# ノック9\n",
        "df_t1['y'].mean() - df_t0['y'].mean()"
      ],
      "metadata": {
        "colab": {
          "base_uri": "https://localhost:8080/",
          "height": 37
        },
        "id": "kpwiYdu0hIQ2",
        "outputId": "d7313ec2-5d0c-4d2a-af94-f28c7d985bb1"
      },
      "execution_count": null,
      "outputs": [
        {
          "output_type": "execute_result",
          "data": {
            "text/plain": [
              "4.434285714285714"
            ],
            "text/latex": "$\\displaystyle 4.43428571428571$"
          },
          "metadata": {},
          "execution_count": 16
        }
      ]
    },
    {
      "cell_type": "code",
      "source": [
        "# ノック10\n",
        "from scipy import stats\n",
        "\n",
        "t, p = stats.ttest_ind(df_t1['y'], df_t0['y'], alternative='greater')\n",
        "print(f\"p値: {p}\")"
      ],
      "metadata": {
        "colab": {
          "base_uri": "https://localhost:8080/"
        },
        "id": "3ELEVxHIhavH",
        "outputId": "1a51da1d-72d1-4902-cb23-f701b5102b7c"
      },
      "execution_count": null,
      "outputs": [
        {
          "output_type": "stream",
          "name": "stdout",
          "text": [
            "p値: 0.007380686135298631\n"
          ]
        }
      ]
    },
    {
      "cell_type": "code",
      "source": [],
      "metadata": {
        "id": "yEuy2OS3hiKO"
      },
      "execution_count": null,
      "outputs": []
    }
  ]
}