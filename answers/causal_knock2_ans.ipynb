{
  "nbformat": 4,
  "nbformat_minor": 0,
  "metadata": {
    "colab": {
      "provenance": []
    },
    "kernelspec": {
      "name": "python3",
      "display_name": "Python 3"
    },
    "language_info": {
      "name": "python"
    }
  },
  "cells": [
    {
      "cell_type": "code",
      "execution_count": null,
      "metadata": {
        "id": "puiH-rRiu2Vi"
      },
      "outputs": [],
      "source": [
        "# ノック1\n",
        "import pandas as pd\n",
        "\n",
        "df_rct = pd.read_csv('https://raw.githubusercontent.com/s1ok69oo/causal_inference_100knock/main/data/causal_knock2_rct.csv')\n",
        "df_reg = pd.read_csv('https://raw.githubusercontent.com/s1ok69oo/causal_inference_100knock/main/data/causal_knock2_reg.csv')"
      ]
    },
    {
      "cell_type": "code",
      "source": [
        "# ノック2\n",
        "df_rct_t1 = df_rct[df_rct['t']==1]\n",
        "df_rct_t0 = df_rct[df_rct['t']==0]\n",
        "\n",
        "df_rct_t1['y'].mean() - df_rct_t0['y'].mean()"
      ],
      "metadata": {
        "colab": {
          "base_uri": "https://localhost:8080/"
        },
        "id": "RyfzEABBvL4-",
        "outputId": "a5ec6679-b113-40ac-d3f1-89b946b8d629"
      },
      "execution_count": null,
      "outputs": [
        {
          "output_type": "execute_result",
          "data": {
            "text/plain": [
              "901.4170602945262"
            ]
          },
          "metadata": {},
          "execution_count": 4
        }
      ]
    },
    {
      "cell_type": "code",
      "source": [
        "# ノック3\n",
        "df = df_reg.drop('x3', axis=1)"
      ],
      "metadata": {
        "id": "RyfuqJ-evhRy"
      },
      "execution_count": null,
      "outputs": []
    },
    {
      "cell_type": "code",
      "source": [
        "# 参考\n",
        "import statsmodels.api as sm\n",
        "\n",
        "# 共変量\n",
        "X = df_reg[['t', 'x0', 'x1', 'x2', 'x3']]\n",
        "X = sm.add_constant(X)\n",
        "\n",
        "# 被説明変数\n",
        "y = df_reg['y']\n",
        "\n",
        "# 結果を出力\n",
        "res = sm.OLS(y, X).fit()\n",
        "print(res.summary())"
      ],
      "metadata": {
        "colab": {
          "base_uri": "https://localhost:8080/"
        },
        "id": "GZojkcCzZijI",
        "outputId": "e2eedcd2-3b08-46fb-d486-bbe1642b8752"
      },
      "execution_count": null,
      "outputs": [
        {
          "output_type": "stream",
          "name": "stdout",
          "text": [
            "                            OLS Regression Results                            \n",
            "==============================================================================\n",
            "Dep. Variable:                      y   R-squared:                       0.429\n",
            "Model:                            OLS   Adj. R-squared:                  0.428\n",
            "Method:                 Least Squares   F-statistic:                     375.1\n",
            "Date:                Mon, 10 Apr 2023   Prob (F-statistic):          5.04e-241\n",
            "Time:                        23:01:16   Log-Likelihood:                -16118.\n",
            "No. Observations:                2000   AIC:                         3.225e+04\n",
            "Df Residuals:                    1995   BIC:                         3.227e+04\n",
            "Df Model:                           4                                         \n",
            "Covariance Type:            nonrobust                                         \n",
            "==============================================================================\n",
            "                 coef    std err          t      P>|t|      [0.025      0.975]\n",
            "------------------------------------------------------------------------------\n",
            "const        -91.0837     43.153     -2.111      0.035    -175.714      -6.453\n",
            "t           1201.7260     38.252     31.416      0.000    1126.708    1276.744\n",
            "x0           -12.7918      8.639     -1.481      0.139     -29.734       4.151\n",
            "x1             0.1261      0.007     18.747      0.000       0.113       0.139\n",
            "x2           556.3839     25.262     22.025      0.000     506.842     605.926\n",
            "x3          -647.4676     32.461    -19.946      0.000    -711.129    -583.807\n",
            "==============================================================================\n",
            "Omnibus:                      352.285   Durbin-Watson:                   1.950\n",
            "Prob(Omnibus):                  0.000   Jarque-Bera (JB):               80.719\n",
            "Skew:                           0.123   Prob(JB):                     2.97e-18\n",
            "Kurtosis:                       2.047   Cond. No.                     4.33e+18\n",
            "==============================================================================\n",
            "\n",
            "Notes:\n",
            "[1] Standard Errors assume that the covariance matrix of the errors is correctly specified.\n",
            "[2] The smallest eigenvalue is 6.78e-27. This might indicate that there are\n",
            "strong multicollinearity problems or that the design matrix is singular.\n"
          ]
        }
      ]
    },
    {
      "cell_type": "code",
      "source": [
        "# ノック4\n",
        "import matplotlib.pyplot as plt\n",
        "import networkx as nx\n",
        "%matplotlib inline\n",
        "\n",
        "G = nx.DiGraph()\n",
        "G.add_edges_from([('x0', 'x1'), ('x1', 't'), ('x1', 'y'), ('t', 'x2'), ('t', 'y'), ('x2', 'y')])\n",
        "\n",
        "nx.draw_networkx(G, node_color='#ABE1FA')\n",
        "plt.show()"
      ],
      "metadata": {
        "colab": {
          "base_uri": "https://localhost:8080/",
          "height": 406
        },
        "id": "_jc-oFWVy_a_",
        "outputId": "31de0d43-f4e8-4415-dda8-f8626e113c5f"
      },
      "execution_count": null,
      "outputs": [
        {
          "output_type": "display_data",
          "data": {
            "text/plain": [
              "<Figure size 640x480 with 1 Axes>"
            ],
            "image/png": "[encoded data removed]"
          },
          "metadata": {}
        }
      ]
    },
    {
      "cell_type": "code",
      "source": [
        "# ノック5\n",
        "import statsmodels.api as sm\n",
        "\n",
        "# 共変量\n",
        "X = df[['t', 'x0', 'x1', 'x2']]\n",
        "X = sm.add_constant(X)\n",
        "\n",
        "# 被説明変数\n",
        "y = df['y']\n",
        "\n",
        "# 結果を出力\n",
        "res = sm.OLS(y, X).fit()\n",
        "print(res.summary())"
      ],
      "metadata": {
        "colab": {
          "base_uri": "https://localhost:8080/"
        },
        "id": "jpYf-I3Jzm5m",
        "outputId": "9f37054e-b66d-423a-e6a7-5b8c0697f12a"
      },
      "execution_count": null,
      "outputs": [
        {
          "output_type": "stream",
          "name": "stdout",
          "text": [
            "                            OLS Regression Results                            \n",
            "==============================================================================\n",
            "Dep. Variable:                      y   R-squared:                       0.429\n",
            "Model:                            OLS   Adj. R-squared:                  0.428\n",
            "Method:                 Least Squares   F-statistic:                     375.1\n",
            "Date:                Mon, 10 Apr 2023   Prob (F-statistic):          5.04e-241\n",
            "Time:                        11:27:37   Log-Likelihood:                -16118.\n",
            "No. Observations:                2000   AIC:                         3.225e+04\n",
            "Df Residuals:                    1995   BIC:                         3.227e+04\n",
            "Df Model:                           4                                         \n",
            "Covariance Type:            nonrobust                                         \n",
            "==============================================================================\n",
            "                 coef    std err          t      P>|t|      [0.025      0.975]\n",
            "------------------------------------------------------------------------------\n",
            "const       -738.5513     72.067    -10.248      0.000    -879.886    -597.216\n",
            "t           1201.7260     38.252     31.416      0.000    1126.708    1276.744\n",
            "x0           -12.7918      8.639     -1.481      0.139     -29.734       4.151\n",
            "x1             0.1261      0.007     18.747      0.000       0.113       0.139\n",
            "x2          1203.8516     39.007     30.863      0.000    1127.353    1280.350\n",
            "==============================================================================\n",
            "Omnibus:                      352.285   Durbin-Watson:                   1.950\n",
            "Prob(Omnibus):                  0.000   Jarque-Bera (JB):               80.719\n",
            "Skew:                           0.123   Prob(JB):                     2.97e-18\n",
            "Kurtosis:                       2.047   Cond. No.                     3.68e+04\n",
            "==============================================================================\n",
            "\n",
            "Notes:\n",
            "[1] Standard Errors assume that the covariance matrix of the errors is correctly specified.\n",
            "[2] The condition number is large, 3.68e+04. This might indicate that there are\n",
            "strong multicollinearity or other numerical problems.\n"
          ]
        }
      ]
    },
    {
      "cell_type": "code",
      "source": [
        "# ノック6\n",
        "import statsmodels.api as sm\n",
        "\n",
        "# 共変量\n",
        "X = df[['t', 'x1', 'x2']]\n",
        "X = sm.add_constant(X)\n",
        "\n",
        "# 被説明変数\n",
        "y = df['y']\n",
        "\n",
        "# 結果を出力\n",
        "res = sm.OLS(y, X).fit()\n",
        "print(res.summary())"
      ],
      "metadata": {
        "colab": {
          "base_uri": "https://localhost:8080/"
        },
        "id": "zd7wdWKK4Tan",
        "outputId": "73ff217b-ef03-4b00-ef18-cef7bf307865"
      },
      "execution_count": null,
      "outputs": [
        {
          "output_type": "stream",
          "name": "stdout",
          "text": [
            "                            OLS Regression Results                            \n",
            "==============================================================================\n",
            "Dep. Variable:                      y   R-squared:                       0.429\n",
            "Model:                            OLS   Adj. R-squared:                  0.428\n",
            "Method:                 Least Squares   F-statistic:                     499.1\n",
            "Date:                Mon, 10 Apr 2023   Prob (F-statistic):          6.20e-242\n",
            "Time:                        11:27:38   Log-Likelihood:                -16119.\n",
            "No. Observations:                2000   AIC:                         3.225e+04\n",
            "Df Residuals:                    1996   BIC:                         3.227e+04\n",
            "Df Model:                           3                                         \n",
            "Covariance Type:            nonrobust                                         \n",
            "==============================================================================\n",
            "                 coef    std err          t      P>|t|      [0.025      0.975]\n",
            "------------------------------------------------------------------------------\n",
            "const       -775.9107     67.526    -11.490      0.000    -908.340    -643.481\n",
            "t           1201.3361     38.263     31.397      0.000    1126.297    1276.375\n",
            "x1             0.1260      0.007     18.729      0.000       0.113       0.139\n",
            "x2          1204.2460     39.018     30.864      0.000    1127.726    1280.766\n",
            "==============================================================================\n",
            "Omnibus:                      357.465   Durbin-Watson:                   1.946\n",
            "Prob(Omnibus):                  0.000   Jarque-Bera (JB):               81.281\n",
            "Skew:                           0.125   Prob(JB):                     2.24e-18\n",
            "Kurtosis:                       2.044   Cond. No.                     3.52e+04\n",
            "==============================================================================\n",
            "\n",
            "Notes:\n",
            "[1] Standard Errors assume that the covariance matrix of the errors is correctly specified.\n",
            "[2] The condition number is large, 3.52e+04. This might indicate that there are\n",
            "strong multicollinearity or other numerical problems.\n"
          ]
        }
      ]
    },
    {
      "cell_type": "code",
      "source": [
        "# ノック7\n",
        "import statsmodels.api as sm\n",
        "\n",
        "# 共変量\n",
        "X = df[['t', 'x1']]\n",
        "X = sm.add_constant(X)\n",
        "\n",
        "# 被説明変数\n",
        "y = df['y']\n",
        "\n",
        "# 結果を出力\n",
        "res = sm.OLS(y, X).fit()\n",
        "print(res.summary())"
      ],
      "metadata": {
        "colab": {
          "base_uri": "https://localhost:8080/"
        },
        "id": "wzioxI6A4G43",
        "outputId": "89d86ee1-a9d4-4763-ff4e-1cc6ba40493e"
      },
      "execution_count": null,
      "outputs": [
        {
          "output_type": "stream",
          "name": "stdout",
          "text": [
            "                            OLS Regression Results                            \n",
            "==============================================================================\n",
            "Dep. Variable:                      y   R-squared:                       0.156\n",
            "Model:                            OLS   Adj. R-squared:                  0.155\n",
            "Method:                 Least Squares   F-statistic:                     184.4\n",
            "Date:                Mon, 10 Apr 2023   Prob (F-statistic):           3.18e-74\n",
            "Time:                        11:27:37   Log-Likelihood:                -16509.\n",
            "No. Observations:                2000   AIC:                         3.302e+04\n",
            "Df Residuals:                    1997   BIC:                         3.304e+04\n",
            "Df Model:                           2                                         \n",
            "Covariance Type:            nonrobust                                         \n",
            "==============================================================================\n",
            "                 coef    std err          t      P>|t|      [0.025      0.975]\n",
            "------------------------------------------------------------------------------\n",
            "const        314.2865     69.931      4.494      0.000     177.140     451.433\n",
            "t            851.8932     44.412     19.182      0.000     764.795     938.991\n",
            "x1             0.0562      0.008      7.302      0.000       0.041       0.071\n",
            "==============================================================================\n",
            "Omnibus:                      123.422   Durbin-Watson:                   1.915\n",
            "Prob(Omnibus):                  0.000   Jarque-Bera (JB):              124.751\n",
            "Skew:                           0.568   Prob(JB):                     8.14e-28\n",
            "Kurtosis:                       2.544   Cond. No.                     2.89e+04\n",
            "==============================================================================\n",
            "\n",
            "Notes:\n",
            "[1] Standard Errors assume that the covariance matrix of the errors is correctly specified.\n",
            "[2] The condition number is large, 2.89e+04. This might indicate that there are\n",
            "strong multicollinearity or other numerical problems.\n"
          ]
        }
      ]
    },
    {
      "cell_type": "code",
      "source": [
        "# ノック8\n",
        "import statsmodels.api as sm\n",
        "\n",
        "# 共変量\n",
        "X = df[['t']]\n",
        "X = sm.add_constant(X)\n",
        "\n",
        "# 被説明変数\n",
        "y = df['y']\n",
        "\n",
        "# 結果を出力\n",
        "res = sm.OLS(y, X).fit()\n",
        "print(res.summary())"
      ],
      "metadata": {
        "colab": {
          "base_uri": "https://localhost:8080/"
        },
        "id": "sl9RLO5B4Xxg",
        "outputId": "6862813b-c96c-4af9-e5c9-7dfec2490dd7"
      },
      "execution_count": null,
      "outputs": [
        {
          "output_type": "stream",
          "name": "stdout",
          "text": [
            "                            OLS Regression Results                            \n",
            "==============================================================================\n",
            "Dep. Variable:                      y   R-squared:                       0.133\n",
            "Model:                            OLS   Adj. R-squared:                  0.133\n",
            "Method:                 Least Squares   F-statistic:                     307.5\n",
            "Date:                Mon, 10 Apr 2023   Prob (F-statistic):           3.86e-64\n",
            "Time:                        11:28:26   Log-Likelihood:                -16536.\n",
            "No. Observations:                2000   AIC:                         3.308e+04\n",
            "Df Residuals:                    1998   BIC:                         3.309e+04\n",
            "Df Model:                           1                                         \n",
            "Covariance Type:            nonrobust                                         \n",
            "==============================================================================\n",
            "                 coef    std err          t      P>|t|      [0.025      0.975]\n",
            "------------------------------------------------------------------------------\n",
            "const        782.0163     28.431     27.506      0.000     726.260     837.773\n",
            "t            743.5676     42.405     17.535      0.000     660.404     826.731\n",
            "==============================================================================\n",
            "Omnibus:                      117.997   Durbin-Watson:                   1.930\n",
            "Prob(Omnibus):                  0.000   Jarque-Bera (JB):              123.052\n",
            "Skew:                           0.571   Prob(JB):                     1.90e-27\n",
            "Kurtosis:                       2.585   Cond. No.                         2.52\n",
            "==============================================================================\n",
            "\n",
            "Notes:\n",
            "[1] Standard Errors assume that the covariance matrix of the errors is correctly specified.\n"
          ]
        }
      ]
    },
    {
      "cell_type": "code",
      "source": [
        "# ノック9\n",
        "import statsmodels.api as sm\n",
        "\n",
        "# 共変量\n",
        "_df = df.copy()\n",
        "_df['t*x1'] = _df['t'] * _df['x1']\n",
        "X = _df[['t', 'x1', 't*x1']]\n",
        "X = sm.add_constant(X)\n",
        "\n",
        "# 被説明変数\n",
        "y = _df['y']\n",
        "\n",
        "# 結果を出力\n",
        "res = sm.OLS(y, X).fit()\n",
        "print(res.summary())"
      ],
      "metadata": {
        "colab": {
          "base_uri": "https://localhost:8080/"
        },
        "id": "Jm1O-QR84x9B",
        "outputId": "bc751ca9-7217-4cad-f4fa-46548d8fb397"
      },
      "execution_count": null,
      "outputs": [
        {
          "output_type": "stream",
          "name": "stdout",
          "text": [
            "                            OLS Regression Results                            \n",
            "==============================================================================\n",
            "Dep. Variable:                      y   R-squared:                       0.157\n",
            "Model:                            OLS   Adj. R-squared:                  0.156\n",
            "Method:                 Least Squares   F-statistic:                     124.3\n",
            "Date:                Mon, 10 Apr 2023   Prob (F-statistic):           8.29e-74\n",
            "Time:                        11:31:18   Log-Likelihood:                -16508.\n",
            "No. Observations:                2000   AIC:                         3.302e+04\n",
            "Df Residuals:                    1996   BIC:                         3.305e+04\n",
            "Df Model:                           3                                         \n",
            "Covariance Type:            nonrobust                                         \n",
            "==============================================================================\n",
            "                 coef    std err          t      P>|t|      [0.025      0.975]\n",
            "------------------------------------------------------------------------------\n",
            "const        418.9856     89.226      4.696      0.000     243.999     593.972\n",
            "t            640.0696    120.688      5.304      0.000     403.383     876.757\n",
            "x1             0.0437      0.010      4.286      0.000       0.024       0.064\n",
            "t*x1           0.0294      0.016      1.887      0.059      -0.001       0.060\n",
            "==============================================================================\n",
            "Omnibus:                      123.978   Durbin-Watson:                   1.916\n",
            "Prob(Omnibus):                  0.000   Jarque-Bera (JB):              128.353\n",
            "Skew:                           0.581   Prob(JB):                     1.34e-28\n",
            "Kurtosis:                       2.565   Cond. No.                     5.78e+04\n",
            "==============================================================================\n",
            "\n",
            "Notes:\n",
            "[1] Standard Errors assume that the covariance matrix of the errors is correctly specified.\n",
            "[2] The condition number is large, 5.78e+04. This might indicate that there are\n",
            "strong multicollinearity or other numerical problems.\n"
          ]
        }
      ]
    },
    {
      "cell_type": "code",
      "source": [
        "# ノック10\n",
        "import statsmodels.api as sm\n",
        "\n",
        "# 共変量\n",
        "X = df[['t', 'x1']]\n",
        "X = sm.add_constant(X)\n",
        "\n",
        "# 被説明変数\n",
        "y = df['y']\n",
        "\n",
        "# 結果を出力\n",
        "res = sm.OLS(y, X).fit()\n",
        "\n",
        "# 可視化\n",
        "cols = X.columns\n",
        "plt.bar(x=cols, height=res.params, yerr=res.bse, capsize=6, alpha=0.4)\n",
        "plt.ylim(0, 1000)\n",
        "plt.show()"
      ],
      "metadata": {
        "colab": {
          "base_uri": "https://localhost:8080/",
          "height": 435
        },
        "id": "pNvz67Ou8_59",
        "outputId": "0869c8f3-ff53-44a2-d178-d971ca6f5a97"
      },
      "execution_count": null,
      "outputs": [
        {
          "output_type": "display_data",
          "data": {
            "text/plain": [
              "<Figure size 640x480 with 1 Axes>"
            ],
            "image/png": "[encoded data removed]"
          },
          "metadata": {}
        }
      ]
    }
  ]
}